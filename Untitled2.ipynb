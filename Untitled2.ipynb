{
  "nbformat": 4,
  "nbformat_minor": 0,
  "metadata": {
    "colab": {
      "provenance": [],
      "authorship_tag": "ABX9TyNjOUKTNAlqj6j0NImmNY2X",
      "include_colab_link": true
    },
    "kernelspec": {
      "name": "python3",
      "display_name": "Python 3"
    },
    "language_info": {
      "name": "python"
    }
  },
  "cells": [
    {
      "cell_type": "markdown",
      "metadata": {
        "id": "view-in-github",
        "colab_type": "text"
      },
      "source": [
        "<a href=\"https://colab.research.google.com/github/Baryga123/lab/blob/main/Untitled2.ipynb\" target=\"_parent\"><img src=\"https://colab.research.google.com/assets/colab-badge.svg\" alt=\"Open In Colab\"/></a>"
      ]
    },
    {
      "cell_type": "code",
      "execution_count": 2,
      "metadata": {
        "colab": {
          "base_uri": "https://localhost:8080/"
        },
        "id": "Wl9wik6NDFfW",
        "outputId": "300ce82b-136e-4a41-ae7b-c98215e52ad2"
      },
      "outputs": [
        {
          "output_type": "stream",
          "name": "stdout",
          "text": [
            "5.031943969696594 -3.0446404424164095\n"
          ]
        }
      ],
      "source": [
        " import numpy as np\n",
        " from scipy.optimize import fsolve\n",
        " def y(p):\n",
        "   x,y=p\n",
        "   return (x**2+x*y-10,x*y+y**2+np.sin(x)+7)\n",
        "x,y=fsolve(y,(1,0))\n",
        "print(x,y)"
      ]
    },
    {
      "cell_type": "code",
      "source": [
        "pip install CoolProp"
      ],
      "metadata": {
        "colab": {
          "base_uri": "https://localhost:8080/"
        },
        "id": "HtJTB4SWIcfw",
        "outputId": "75715b78-c7ff-4850-e1d8-ab2b9bec0b2c"
      },
      "execution_count": 4,
      "outputs": [
        {
          "output_type": "stream",
          "name": "stdout",
          "text": [
            "Looking in indexes: https://pypi.org/simple, https://us-python.pkg.dev/colab-wheels/public/simple/\n",
            "Collecting CoolProp\n",
            "  Downloading CoolProp-6.4.3.post1-cp39-cp39-manylinux_2_17_x86_64.manylinux2014_x86_64.whl (6.2 MB)\n",
            "\u001b[2K     \u001b[90m━━━━━━━━━━━━━━━━━━━━━━━━━━━━━━━━━━━━━━━━\u001b[0m \u001b[32m6.2/6.2 MB\u001b[0m \u001b[31m39.5 MB/s\u001b[0m eta \u001b[36m0:00:00\u001b[0m\n",
            "\u001b[?25hInstalling collected packages: CoolProp\n",
            "Successfully installed CoolProp-6.4.3.post1\n"
          ]
        }
      ]
    },
    {
      "cell_type": "code",
      "source": [
        "import CoolProp.CoolProp as ct\n",
        "Fluid_name='water'\n",
        "t=293.15\n",
        "p=101325\n",
        "d=ct.PropsSI('D','P',p,'T',t,Fluid_name)\n",
        "print(d)"
      ],
      "metadata": {
        "colab": {
          "base_uri": "https://localhost:8080/"
        },
        "id": "k1zk9WkeIll2",
        "outputId": "2d8a6fd3-443c-471b-f6bd-5f36da22bab9"
      },
      "execution_count": 9,
      "outputs": [
        {
          "output_type": "stream",
          "name": "stdout",
          "text": [
            "998.2071504679284\n"
          ]
        }
      ]
    },
    {
      "cell_type": "code",
      "source": [
        "import CoolProp.CoolProp as ct\n",
        "import matplotlib.pyplot as plt\n",
        "t=np.linspace(293.15,393.15,100)\n",
        "Fluid_name='water'\n",
        "#10-100 gradus\n",
        "p=101325\n",
        "d=ct.PropsSI('D','P',p,'T',t,Fluid_name)\n",
        "plt.plot(t,d,'r')\n",
        "plt.grid()\n",
        "plt.show()\n",
        "print(d)"
      ],
      "metadata": {
        "colab": {
          "base_uri": "https://localhost:8080/",
          "height": 864
        },
        "id": "s4KGOKTbK8_E",
        "outputId": "0a2e75dd-f355-472b-c26c-b05da7282ef7"
      },
      "execution_count": 14,
      "outputs": [
        {
          "output_type": "display_data",
          "data": {
            "text/plain": [
              "<Figure size 640x480 with 1 Axes>"
            ],
            "image/png": "[encoded data removed]"
          },
          "metadata": {}
        },
        {
          "output_type": "stream",
          "name": "stdout",
          "text": [
            "[9.98207150e+02 9.97993290e+02 9.97768900e+02 9.97534196e+02\n",
            " 9.97289386e+02 9.97034669e+02 9.96770235e+02 9.96496269e+02\n",
            " 9.96212945e+02 9.95920435e+02 9.95618899e+02 9.95308495e+02\n",
            " 9.94989373e+02 9.94661679e+02 9.94325552e+02 9.93981127e+02\n",
            " 9.93628535e+02 9.93267900e+02 9.92899345e+02 9.92522984e+02\n",
            " 9.92138932e+02 9.91747298e+02 9.91348187e+02 9.90941701e+02\n",
            " 9.90527938e+02 9.90106994e+02 9.89678961e+02 9.89243928e+02\n",
            " 9.88801983e+02 9.88353208e+02 9.87897686e+02 9.87435493e+02\n",
            " 9.86966708e+02 9.86491403e+02 9.86009651e+02 9.85521520e+02\n",
            " 9.85027078e+02 9.84526391e+02 9.84019521e+02 9.83506531e+02\n",
            " 9.82987480e+02 9.82462426e+02 9.81931426e+02 9.81394533e+02\n",
            " 9.80851801e+02 9.80303281e+02 9.79749024e+02 9.79189078e+02\n",
            " 9.78623489e+02 9.78052304e+02 9.77475567e+02 9.76893322e+02\n",
            " 9.76305609e+02 9.75712470e+02 9.75113944e+02 9.74510069e+02\n",
            " 9.73900883e+02 9.73286422e+02 9.72666720e+02 9.72041812e+02\n",
            " 9.71411730e+02 9.70776507e+02 9.70136173e+02 9.69490758e+02\n",
            " 9.68840292e+02 9.68184802e+02 9.67524316e+02 9.66858860e+02\n",
            " 9.66188460e+02 9.65513141e+02 9.64832926e+02 9.64147838e+02\n",
            " 9.63457901e+02 9.62763134e+02 9.62063559e+02 9.61359196e+02\n",
            " 9.60650065e+02 9.59936183e+02 9.59217568e+02 9.58494238e+02\n",
            " 5.96214748e-01 5.94479143e-01 5.92755762e-01 5.91044391e-01\n",
            " 5.89344829e-01 5.87656882e-01 5.85980368e-01 5.84315111e-01\n",
            " 5.82660944e-01 5.81017705e-01 5.79385240e-01 5.77763398e-01\n",
            " 5.76152037e-01 5.74551015e-01 5.72960197e-01 5.71379453e-01\n",
            " 5.69808653e-01 5.68247674e-01 5.66696395e-01 5.65154698e-01]\n"
          ]
        }
      ]
    },
    {
      "cell_type": "code",
      "source": [
        "%matplotlib inline\n",
        "import numpy as np\n",
        "import matplotlib.pyplot as plt\n",
        "import sympy as smp\n",
        "a, x, V1 = smp.symbols('a x V1')\n",
        "smp.init_printing() \n",
        "V1 = a**3 * (1 - 2 * x)**2 * x\n",
        "V1s = smp.diff(V1, x)\n",
        "x1 = smp.solve(V1s, x)\n",
        "x1_ = [xx.evalf(5) for xx in x1]\n",
        "x1, x1_ "
      ],
      "metadata": {
        "colab": {
          "base_uri": "https://localhost:8080/",
          "height": 58
        },
        "id": "xI6fTmzvNRNc",
        "outputId": "c00f3d92-05c5-42c4-de23-b968d83f67db"
      },
      "execution_count": 19,
      "outputs": [
        {
          "output_type": "execute_result",
          "data": {
            "text/plain": [
              "([1/6, 1/2], [0.16667, 0.5])"
            ],
            "text/latex": "$\\displaystyle \\left( \\left[ \\frac{1}{6}, \\  \\frac{1}{2}\\right], \\  \\left[ 0.16667, \\  0.5\\right]\\right)$"
          },
          "metadata": {},
          "execution_count": 19
        }
      ]
    },
    {
      "cell_type": "code",
      "source": [],
      "metadata": {
        "id": "Vtb-fq8NONja"
      },
      "execution_count": null,
      "outputs": []
    }
  ]
}